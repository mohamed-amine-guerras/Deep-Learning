{
 "cells": [
  {
   "cell_type": "markdown",
   "metadata": {},
   "source": [
    "# Simple linear regression minimal example"
   ]
  },
  {
   "cell_type": "markdown",
   "metadata": {},
   "source": [
    "## Import the relevant libraries"
   ]
  },
  {
   "cell_type": "code",
   "execution_count": 1,
   "metadata": {},
   "outputs": [],
   "source": [
    "import numpy as np\n",
    "import matplotlib.pyplot as plt\n",
    "import tensorflow as tf"
   ]
  },
  {
   "cell_type": "markdown",
   "metadata": {},
   "source": [
    "## Generate random input data to train on"
   ]
  },
  {
   "cell_type": "code",
   "execution_count": 2,
   "metadata": {},
   "outputs": [
    {
     "data": {
      "text/plain": [
       "(1000, 2)"
      ]
     },
     "execution_count": 2,
     "metadata": {},
     "output_type": "execute_result"
    }
   ],
   "source": [
    "observations = 1000\n",
    "\n",
    "xs = np.random.uniform(low=-10,high=10,size=(observations,1))\n",
    "\n",
    "zs = np.random.uniform(-10,10,(observations,1))\n",
    "\n",
    "inputs = np.column_stack((xs,zs))\n",
    "\n",
    "inputs.shape"
   ]
  },
  {
   "cell_type": "markdown",
   "metadata": {},
   "source": [
    "## Create the targets we will aim at"
   ]
  },
  {
   "cell_type": "code",
   "execution_count": 3,
   "metadata": {},
   "outputs": [
    {
     "data": {
      "text/plain": [
       "(1000, 1)"
      ]
     },
     "execution_count": 3,
     "metadata": {},
     "output_type": "execute_result"
    }
   ],
   "source": [
    "noise = np.random.uniform(-1,1,(observations,1))\n",
    "\n",
    "targets = 2*xs -3*zs + 5 + noise\n",
    "\n",
    "np.savez('TF_intro', inputs = inputs, targets = targets)\n",
    "targets.shape"
   ]
  },
  {
   "cell_type": "markdown",
   "metadata": {},
   "source": [
    "## Solving with TensorFlow"
   ]
  },
  {
   "cell_type": "code",
   "execution_count": 4,
   "metadata": {},
   "outputs": [],
   "source": [
    "input_size = 2\n",
    "output_size = 1"
   ]
  },
  {
   "cell_type": "markdown",
   "metadata": {},
   "source": [
    "## Outlining the model"
   ]
  },
  {
   "cell_type": "code",
   "execution_count": 5,
   "metadata": {},
   "outputs": [
    {
     "name": "stdout",
     "output_type": "stream",
     "text": [
      "WARNING:tensorflow:From C:\\Users\\dell\\Anaconda3\\lib\\site-packages\\tensorflow\\python\\framework\\op_def_library.py:263: colocate_with (from tensorflow.python.framework.ops) is deprecated and will be removed in a future version.\n",
      "Instructions for updating:\n",
      "Colocations handled automatically by placer.\n"
     ]
    }
   ],
   "source": [
    "inputs = tf.placeholder(tf.float32,[None,input_size])\n",
    "targets = tf.placeholder(tf.float32,[None,output_size])\n",
    "\n",
    "weights = tf.Variable(tf.random_uniform( [input_size,output_size],minval=0.1,maxval=0.1))\n",
    "biases = tf.Variable(tf.random_uniform([output_size],minval=-0.1,maxval=0.1))\n",
    "\n",
    "outputs = tf.matmul(inputs,weights) + biases"
   ]
  },
  {
   "cell_type": "markdown",
   "metadata": {},
   "source": [
    "## Choosing the objectif function and the optimisation method"
   ]
  },
  {
   "cell_type": "code",
   "execution_count": 6,
   "metadata": {},
   "outputs": [
    {
     "name": "stdout",
     "output_type": "stream",
     "text": [
      "WARNING:tensorflow:From C:\\Users\\dell\\Anaconda3\\lib\\site-packages\\tensorflow\\python\\ops\\losses\\losses_impl.py:667: to_float (from tensorflow.python.ops.math_ops) is deprecated and will be removed in a future version.\n",
      "Instructions for updating:\n",
      "Use tf.cast instead.\n"
     ]
    }
   ],
   "source": [
    "mean_loss = tf.losses.mean_squared_error(labels=targets,predictions=outputs)/2\n",
    "\n",
    "optimize = tf.train.GradientDescentOptimizer(learning_rate=0.02).minimize(mean_loss)"
   ]
  },
  {
   "cell_type": "markdown",
   "metadata": {},
   "source": [
    "## Prepare for execution"
   ]
  },
  {
   "cell_type": "code",
   "execution_count": 7,
   "metadata": {
    "scrolled": true
   },
   "outputs": [],
   "source": [
    "sess = tf.InteractiveSession()"
   ]
  },
  {
   "cell_type": "markdown",
   "metadata": {},
   "source": [
    "## Initializing variables"
   ]
  },
  {
   "cell_type": "code",
   "execution_count": 8,
   "metadata": {},
   "outputs": [],
   "source": [
    "initializer = tf.global_variables_initializer()\n",
    "\n",
    "sess.run(initializer)"
   ]
  },
  {
   "cell_type": "markdown",
   "metadata": {},
   "source": [
    "## Loading the data"
   ]
  },
  {
   "cell_type": "code",
   "execution_count": 9,
   "metadata": {},
   "outputs": [],
   "source": [
    "training_data = np.load('TF_intro.npz')"
   ]
  },
  {
   "cell_type": "markdown",
   "metadata": {},
   "source": [
    "## Learning"
   ]
  },
  {
   "cell_type": "code",
   "execution_count": 10,
   "metadata": {
    "scrolled": true
   },
   "outputs": [
    {
     "name": "stdout",
     "output_type": "stream",
     "text": [
      "225.41182\n",
      "36.267086\n",
      "14.480801\n",
      "11.592754\n",
      "10.874413\n",
      "10.421056\n",
      "10.013076\n",
      "9.624411\n",
      "9.251453\n",
      "8.893245\n",
      "8.549168\n",
      "8.218656\n",
      "7.901176\n",
      "7.596213\n",
      "7.3032756\n",
      "7.021886\n",
      "6.7515917\n",
      "6.491957\n",
      "6.242557\n",
      "6.002989\n",
      "5.7728715\n",
      "5.551823\n",
      "5.339491\n",
      "5.1355324\n",
      "4.9396105\n",
      "4.751419\n",
      "4.570645\n",
      "4.397001\n",
      "4.2302012\n",
      "4.0699778\n",
      "3.9160714\n",
      "3.768235\n",
      "3.6262267\n",
      "3.489817\n",
      "3.358786\n",
      "3.2329211\n",
      "3.1120205\n",
      "2.9958842\n",
      "2.8843288\n",
      "2.7771695\n",
      "2.674238\n",
      "2.5753639\n",
      "2.4803874\n",
      "2.3891568\n",
      "2.301523\n",
      "2.2173445\n",
      "2.1364844\n",
      "2.0588129\n",
      "1.9842043\n",
      "1.9125369\n",
      "1.8436952\n",
      "1.7775676\n",
      "1.7140474\n",
      "1.6530321\n",
      "1.5944219\n",
      "1.5381228\n",
      "1.4840436\n",
      "1.4320962\n",
      "1.3821977\n",
      "1.3342657\n",
      "1.288224\n",
      "1.2439977\n",
      "1.201515\n",
      "1.160708\n",
      "1.1215096\n",
      "1.0838562\n",
      "1.0476875\n",
      "1.0129455\n",
      "0.97957295\n",
      "0.9475157\n",
      "0.9167227\n",
      "0.8871437\n",
      "0.8587313\n",
      "0.8314392\n",
      "0.8052229\n",
      "0.7800406\n",
      "0.7558506\n",
      "0.732615\n",
      "0.71029514\n",
      "0.68885523\n",
      "0.668261\n",
      "0.64847827\n",
      "0.6294761\n",
      "0.6112224\n",
      "0.59368914\n",
      "0.57684684\n",
      "0.5606686\n",
      "0.54512876\n",
      "0.53020114\n",
      "0.5158623\n",
      "0.50208867\n",
      "0.48885804\n",
      "0.4761493\n",
      "0.46394145\n",
      "0.45221505\n",
      "0.44095078\n",
      "0.43013105\n",
      "0.41973773\n",
      "0.4097541\n",
      "0.4001646\n"
     ]
    }
   ],
   "source": [
    "for e in range(100):\n",
    "    _, curr_loss = sess.run([optimize,mean_loss],\n",
    "                            feed_dict = {inputs: training_data['inputs'], targets: training_data['targets']} )\n",
    "    \n",
    "    print(curr_loss)"
   ]
  },
  {
   "cell_type": "markdown",
   "metadata": {},
   "source": [
    "## Plotting the data"
   ]
  },
  {
   "cell_type": "code",
   "execution_count": 11,
   "metadata": {},
   "outputs": [
    {
     "data": {
      "image/png": "[encoded data removed]",
      "text/plain": [
       "<Figure size 432x288 with 1 Axes>"
      ]
     },
     "metadata": {
      "needs_background": "light"
     },
     "output_type": "display_data"
    }
   ],
   "source": [
    "out = sess.run([outputs],\n",
    "              feed_dict={inputs:training_data['inputs']})\n",
    "plt.plot(np.squeeze(out), np.squeeze(training_data['targets']))\n",
    "plt.xlabel('outputs')\n",
    "plt.ylabel('targets')\n",
    "plt.show()"
   ]
  }
 ],
 "metadata": {
  "kernelspec": {
   "display_name": "Python 3",
   "language": "python",
   "name": "python3"
  },
  "language_info": {
   "codemirror_mode": {
    "name": "ipython",
    "version": 3
   },
   "file_extension": ".py",
   "mimetype": "text/x-python",
   "name": "python",
   "nbconvert_exporter": "python",
   "pygments_lexer": "ipython3",
   "version": "3.7.3"
  }
 },
 "nbformat": 4,
 "nbformat_minor": 2
}
