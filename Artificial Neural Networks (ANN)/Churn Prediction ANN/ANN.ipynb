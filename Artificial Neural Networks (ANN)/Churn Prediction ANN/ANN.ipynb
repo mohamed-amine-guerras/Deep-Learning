{
 "cells": [
  {
   "cell_type": "markdown",
   "metadata": {},
   "source": [
    "# Artificial Neural Network"
   ]
  },
  {
   "cell_type": "markdown",
   "metadata": {},
   "source": [
    "## Import relevant libraries"
   ]
  },
  {
   "cell_type": "code",
   "execution_count": 10,
   "metadata": {},
   "outputs": [],
   "source": [
    "# Importing the libraries\n",
    "import numpy as np\n",
    "import matplotlib.pyplot as plt\n",
    "import pandas as pd\n",
    "import keras\n",
    "from keras.models import Sequential\n",
    "from keras.layers import Dense"
   ]
  },
  {
   "cell_type": "markdown",
   "metadata": {},
   "source": [
    "## Load the data"
   ]
  },
  {
   "cell_type": "code",
   "execution_count": 3,
   "metadata": {},
   "outputs": [],
   "source": [
    "dataset = pd.read_csv('Churn_Modelling.csv')\n",
    "X = dataset.iloc[:, 3:13 ]\n",
    "y = dataset.iloc[:, -1].values"
   ]
  },
  {
   "cell_type": "markdown",
   "metadata": {},
   "source": [
    "## Get Dummies"
   ]
  },
  {
   "cell_type": "code",
   "execution_count": 5,
   "metadata": {},
   "outputs": [],
   "source": [
    "X = pd.get_dummies(X,drop_first=True).values"
   ]
  },
  {
   "cell_type": "markdown",
   "metadata": {},
   "source": [
    "## Scale the inputs"
   ]
  },
  {
   "cell_type": "code",
   "execution_count": 7,
   "metadata": {},
   "outputs": [],
   "source": [
    "from sklearn.preprocessing import StandardScaler\n",
    "scaler = StandardScaler()\n",
    "X = scaler.fit_transform(X)"
   ]
  },
  {
   "cell_type": "markdown",
   "metadata": {},
   "source": [
    "## Split the data set"
   ]
  },
  {
   "cell_type": "code",
   "execution_count": 8,
   "metadata": {},
   "outputs": [],
   "source": [
    "from sklearn.model_selection import train_test_split\n",
    "X_train, X_test, y_train, y_test = train_test_split(X,y, test_size=0.25, random_state=0)"
   ]
  },
  {
   "cell_type": "markdown",
   "metadata": {},
   "source": [
    "## Model"
   ]
  },
  {
   "cell_type": "markdown",
   "metadata": {},
   "source": [
    "## Outline the model"
   ]
  },
  {
   "cell_type": "code",
   "execution_count": 17,
   "metadata": {},
   "outputs": [],
   "source": [
    "classifier = Sequential([\n",
    "    Dense(6,activation='relu',input_dim=11),\n",
    "    Dense(6,activation='relu'),\n",
    "    Dense(1, activation='sigmoid')\n",
    "])\n"
   ]
  },
  {
   "cell_type": "markdown",
   "metadata": {},
   "source": [
    "## Choose the optimizer and the loss function"
   ]
  },
  {
   "cell_type": "code",
   "execution_count": 19,
   "metadata": {},
   "outputs": [],
   "source": [
    "classifier.compile(optimizer='adam', loss='binary_crossentropy', metrics=['accuracy'])"
   ]
  },
  {
   "cell_type": "markdown",
   "metadata": {},
   "source": [
    "## Fit the ANN to the training set"
   ]
  },
  {
   "cell_type": "code",
   "execution_count": 21,
   "metadata": {},
   "outputs": [
    {
     "name": "stdout",
     "output_type": "stream",
     "text": [
      "WARNING:tensorflow:From C:\\Users\\dell\\Anaconda3\\lib\\site-packages\\tensorflow\\python\\ops\\math_ops.py:3066: to_int32 (from tensorflow.python.ops.math_ops) is deprecated and will be removed in a future version.\n",
      "Instructions for updating:\n",
      "Use tf.cast instead.\n"
     ]
    },
    {
     "name": "stderr",
     "output_type": "stream",
     "text": [
      "C:\\Users\\dell\\Anaconda3\\lib\\site-packages\\ipykernel_launcher.py:1: UserWarning: The `nb_epoch` argument in `fit` has been renamed `epochs`.\n",
      "  \"\"\"Entry point for launching an IPython kernel.\n"
     ]
    },
    {
     "name": "stdout",
     "output_type": "stream",
     "text": [
      "Epoch 1/100\n",
      "7500/7500 [==============================] - 2s 265us/step - loss: 0.4899 - acc: 0.7963\n",
      "Epoch 2/100\n",
      "7500/7500 [==============================] - 1s 121us/step - loss: 0.4486 - acc: 0.7963\n",
      "Epoch 3/100\n",
      "7500/7500 [==============================] - 1s 100us/step - loss: 0.4356 - acc: 0.7963\n",
      "Epoch 4/100\n",
      "7500/7500 [==============================] - 1s 98us/step - loss: 0.4295 - acc: 0.7991\n",
      "Epoch 5/100\n",
      "7500/7500 [==============================] - 1s 97us/step - loss: 0.4249 - acc: 0.8167\n",
      "Epoch 6/100\n",
      "7500/7500 [==============================] - 1s 98us/step - loss: 0.4202 - acc: 0.8215\n",
      "Epoch 7/100\n",
      "7500/7500 [==============================] - 1s 99us/step - loss: 0.4094 - acc: 0.8259\n",
      "Epoch 8/100\n",
      "7500/7500 [==============================] - 1s 98us/step - loss: 0.3891 - acc: 0.8397\n",
      "Epoch 9/100\n",
      "7500/7500 [==============================] - 1s 98us/step - loss: 0.3716 - acc: 0.8487\n",
      "Epoch 10/100\n",
      "7500/7500 [==============================] - 1s 97us/step - loss: 0.3611 - acc: 0.8529\n",
      "Epoch 11/100\n",
      "7500/7500 [==============================] - 1s 98us/step - loss: 0.3551 - acc: 0.8548\n",
      "Epoch 12/100\n",
      "7500/7500 [==============================] - 1s 97us/step - loss: 0.3515 - acc: 0.8571\n",
      "Epoch 13/100\n",
      "7500/7500 [==============================] - 1s 98us/step - loss: 0.3487 - acc: 0.8588\n",
      "Epoch 14/100\n",
      "7500/7500 [==============================] - 1s 98us/step - loss: 0.3474 - acc: 0.8601\n",
      "Epoch 15/100\n",
      "7500/7500 [==============================] - 1s 100us/step - loss: 0.3460 - acc: 0.8600\n",
      "Epoch 16/100\n",
      "7500/7500 [==============================] - 1s 103us/step - loss: 0.3449 - acc: 0.8615\n",
      "Epoch 17/100\n",
      "7500/7500 [==============================] - 1s 100us/step - loss: 0.3437 - acc: 0.8617\n",
      "Epoch 18/100\n",
      "7500/7500 [==============================] - 1s 103us/step - loss: 0.3436 - acc: 0.8604\n",
      "Epoch 19/100\n",
      "7500/7500 [==============================] - 1s 106us/step - loss: 0.3429 - acc: 0.8615\n",
      "Epoch 20/100\n",
      "7500/7500 [==============================] - 1s 116us/step - loss: 0.3422 - acc: 0.8629\n",
      "Epoch 21/100\n",
      "7500/7500 [==============================] - 1s 114us/step - loss: 0.3415 - acc: 0.8623\n",
      "Epoch 22/100\n",
      "7500/7500 [==============================] - 1s 122us/step - loss: 0.3406 - acc: 0.8632\n",
      "Epoch 23/100\n",
      "7500/7500 [==============================] - 1s 124us/step - loss: 0.3405 - acc: 0.8607\n",
      "Epoch 24/100\n",
      "7500/7500 [==============================] - 1s 124us/step - loss: 0.3402 - acc: 0.8629\n",
      "Epoch 25/100\n",
      "7500/7500 [==============================] - 1s 125us/step - loss: 0.3400 - acc: 0.8629 0s - loss: 0.2\n",
      "Epoch 26/100\n",
      "7500/7500 [==============================] - 1s 122us/step - loss: 0.3393 - acc: 0.8621\n",
      "Epoch 27/100\n",
      "7500/7500 [==============================] - 1s 122us/step - loss: 0.3392 - acc: 0.8636\n",
      "Epoch 28/100\n",
      "7500/7500 [==============================] - 1s 125us/step - loss: 0.3386 - acc: 0.8627\n",
      "Epoch 29/100\n",
      "7500/7500 [==============================] - 1s 125us/step - loss: 0.3386 - acc: 0.8616\n",
      "Epoch 30/100\n",
      "7500/7500 [==============================] - 1s 130us/step - loss: 0.3378 - acc: 0.8619\n",
      "Epoch 31/100\n",
      "7500/7500 [==============================] - 1s 139us/step - loss: 0.3380 - acc: 0.8628\n",
      "Epoch 32/100\n",
      "7500/7500 [==============================] - 1s 131us/step - loss: 0.3377 - acc: 0.8636 0s - loss: 0.3\n",
      "Epoch 33/100\n",
      "7500/7500 [==============================] - 1s 122us/step - loss: 0.3377 - acc: 0.8628\n",
      "Epoch 34/100\n",
      "7500/7500 [==============================] - 1s 110us/step - loss: 0.3372 - acc: 0.8627\n",
      "Epoch 35/100\n",
      "7500/7500 [==============================] - 1s 110us/step - loss: 0.3372 - acc: 0.8631\n",
      "Epoch 36/100\n",
      "7500/7500 [==============================] - 1s 112us/step - loss: 0.3374 - acc: 0.8625\n",
      "Epoch 37/100\n",
      "7500/7500 [==============================] - 1s 108us/step - loss: 0.3364 - acc: 0.8624\n",
      "Epoch 38/100\n",
      "7500/7500 [==============================] - 1s 108us/step - loss: 0.3369 - acc: 0.8635\n",
      "Epoch 39/100\n",
      "7500/7500 [==============================] - ETA: 0s - loss: 0.3367 - acc: 0.863 - 1s 106us/step - loss: 0.3364 - acc: 0.8637\n",
      "Epoch 40/100\n",
      "7500/7500 [==============================] - 1s 110us/step - loss: 0.3363 - acc: 0.8623\n",
      "Epoch 41/100\n",
      "7500/7500 [==============================] - 1s 109us/step - loss: 0.3359 - acc: 0.8635\n",
      "Epoch 42/100\n",
      "7500/7500 [==============================] - 1s 107us/step - loss: 0.3359 - acc: 0.8635\n",
      "Epoch 43/100\n",
      "7500/7500 [==============================] - 1s 108us/step - loss: 0.3361 - acc: 0.8628\n",
      "Epoch 44/100\n",
      "7500/7500 [==============================] - 1s 110us/step - loss: 0.3359 - acc: 0.8639\n",
      "Epoch 45/100\n",
      "7500/7500 [==============================] - 1s 111us/step - loss: 0.3362 - acc: 0.8628\n",
      "Epoch 46/100\n",
      "7500/7500 [==============================] - 1s 110us/step - loss: 0.3358 - acc: 0.8643\n",
      "Epoch 47/100\n",
      "7500/7500 [==============================] - 1s 106us/step - loss: 0.3355 - acc: 0.8633\n",
      "Epoch 48/100\n",
      "7500/7500 [==============================] - 1s 108us/step - loss: 0.3357 - acc: 0.8627\n",
      "Epoch 49/100\n",
      "7500/7500 [==============================] - 1s 109us/step - loss: 0.3353 - acc: 0.8637\n",
      "Epoch 50/100\n",
      "7500/7500 [==============================] - 1s 107us/step - loss: 0.3349 - acc: 0.8632\n",
      "Epoch 51/100\n",
      "7500/7500 [==============================] - 1s 107us/step - loss: 0.3355 - acc: 0.8631\n",
      "Epoch 52/100\n",
      "7500/7500 [==============================] - 1s 111us/step - loss: 0.3359 - acc: 0.8627\n",
      "Epoch 53/100\n",
      "7500/7500 [==============================] - 1s 107us/step - loss: 0.3349 - acc: 0.8640\n",
      "Epoch 54/100\n",
      "7500/7500 [==============================] - 1s 108us/step - loss: 0.3352 - acc: 0.8635\n",
      "Epoch 55/100\n",
      "7500/7500 [==============================] - 1s 107us/step - loss: 0.3348 - acc: 0.8631\n",
      "Epoch 56/100\n",
      "7500/7500 [==============================] - 1s 111us/step - loss: 0.3354 - acc: 0.8605\n",
      "Epoch 57/100\n",
      "7500/7500 [==============================] - 1s 115us/step - loss: 0.3345 - acc: 0.8649\n",
      "Epoch 58/100\n",
      "7500/7500 [==============================] - 1s 114us/step - loss: 0.3347 - acc: 0.8628\n",
      "Epoch 59/100\n",
      "7500/7500 [==============================] - 1s 128us/step - loss: 0.3345 - acc: 0.8640\n",
      "Epoch 60/100\n",
      "7500/7500 [==============================] - 1s 125us/step - loss: 0.3346 - acc: 0.8631\n",
      "Epoch 61/100\n",
      "7500/7500 [==============================] - 1s 117us/step - loss: 0.3346 - acc: 0.8612\n",
      "Epoch 62/100\n",
      "7500/7500 [==============================] - 1s 111us/step - loss: 0.3342 - acc: 0.8629\n",
      "Epoch 63/100\n",
      "7500/7500 [==============================] - 1s 126us/step - loss: 0.3344 - acc: 0.8633\n",
      "Epoch 64/100\n",
      "7500/7500 [==============================] - 1s 112us/step - loss: 0.3344 - acc: 0.8627\n",
      "Epoch 65/100\n",
      "7500/7500 [==============================] - 1s 115us/step - loss: 0.3339 - acc: 0.8633\n",
      "Epoch 66/100\n",
      "7500/7500 [==============================] - 1s 114us/step - loss: 0.3339 - acc: 0.8635\n",
      "Epoch 67/100\n",
      "7500/7500 [==============================] - 1s 114us/step - loss: 0.3337 - acc: 0.8621\n",
      "Epoch 68/100\n",
      "7500/7500 [==============================] - 1s 113us/step - loss: 0.3341 - acc: 0.8617\n",
      "Epoch 69/100\n",
      "7500/7500 [==============================] - 1s 117us/step - loss: 0.3342 - acc: 0.8629\n",
      "Epoch 70/100\n",
      "7500/7500 [==============================] - 1s 116us/step - loss: 0.3331 - acc: 0.8607\n",
      "Epoch 71/100\n",
      "7500/7500 [==============================] - 1s 116us/step - loss: 0.3339 - acc: 0.8633\n",
      "Epoch 72/100\n",
      "7500/7500 [==============================] - 1s 114us/step - loss: 0.3339 - acc: 0.8641\n",
      "Epoch 73/100\n",
      "7500/7500 [==============================] - 1s 116us/step - loss: 0.3337 - acc: 0.8629\n",
      "Epoch 74/100\n",
      "7500/7500 [==============================] - 1s 113us/step - loss: 0.3336 - acc: 0.8628\n",
      "Epoch 75/100\n",
      "7500/7500 [==============================] - 1s 115us/step - loss: 0.3332 - acc: 0.8629\n",
      "Epoch 76/100\n",
      "7500/7500 [==============================] - 1s 114us/step - loss: 0.3338 - acc: 0.8641\n",
      "Epoch 77/100\n",
      "7500/7500 [==============================] - 1s 114us/step - loss: 0.3329 - acc: 0.8640\n",
      "Epoch 78/100\n",
      "7500/7500 [==============================] - 1s 119us/step - loss: 0.3334 - acc: 0.8633\n",
      "Epoch 79/100\n",
      "7500/7500 [==============================] - 1s 115us/step - loss: 0.3331 - acc: 0.8613\n",
      "Epoch 80/100\n",
      "7500/7500 [==============================] - 1s 120us/step - loss: 0.3335 - acc: 0.8624\n",
      "Epoch 81/100\n"
     ]
    },
    {
     "name": "stdout",
     "output_type": "stream",
     "text": [
      "7500/7500 [==============================] - 1s 114us/step - loss: 0.3332 - acc: 0.8652\n",
      "Epoch 82/100\n",
      "7500/7500 [==============================] - 1s 119us/step - loss: 0.3331 - acc: 0.8631\n",
      "Epoch 83/100\n",
      "7500/7500 [==============================] - 1s 117us/step - loss: 0.3326 - acc: 0.8628\n",
      "Epoch 84/100\n",
      "7500/7500 [==============================] - 1s 118us/step - loss: 0.3331 - acc: 0.8621\n",
      "Epoch 85/100\n",
      "7500/7500 [==============================] - 1s 119us/step - loss: 0.3329 - acc: 0.8629\n",
      "Epoch 86/100\n",
      "7500/7500 [==============================] - 1s 115us/step - loss: 0.3329 - acc: 0.8631\n",
      "Epoch 87/100\n",
      "7500/7500 [==============================] - 1s 117us/step - loss: 0.3331 - acc: 0.8637\n",
      "Epoch 88/100\n",
      "7500/7500 [==============================] - 1s 116us/step - loss: 0.3326 - acc: 0.8632\n",
      "Epoch 89/100\n",
      "7500/7500 [==============================] - 1s 115us/step - loss: 0.3327 - acc: 0.8629\n",
      "Epoch 90/100\n",
      "7500/7500 [==============================] - 1s 116us/step - loss: 0.3328 - acc: 0.8632\n",
      "Epoch 91/100\n",
      "7500/7500 [==============================] - 1s 116us/step - loss: 0.3327 - acc: 0.8637\n",
      "Epoch 92/100\n",
      "7500/7500 [==============================] - 1s 116us/step - loss: 0.3332 - acc: 0.8629\n",
      "Epoch 93/100\n",
      "7500/7500 [==============================] - 1s 118us/step - loss: 0.3325 - acc: 0.8635\n",
      "Epoch 94/100\n",
      "7500/7500 [==============================] - 1s 116us/step - loss: 0.3322 - acc: 0.8624\n",
      "Epoch 95/100\n",
      "7500/7500 [==============================] - 1s 118us/step - loss: 0.3329 - acc: 0.8628\n",
      "Epoch 96/100\n",
      "7500/7500 [==============================] - 1s 119us/step - loss: 0.3324 - acc: 0.8627\n",
      "Epoch 97/100\n",
      "7500/7500 [==============================] - 1s 118us/step - loss: 0.3321 - acc: 0.8640\n",
      "Epoch 98/100\n",
      "7500/7500 [==============================] - 1s 118us/step - loss: 0.3324 - acc: 0.8617\n",
      "Epoch 99/100\n",
      "7500/7500 [==============================] - 1s 127us/step - loss: 0.3326 - acc: 0.8623\n",
      "Epoch 100/100\n",
      "7500/7500 [==============================] - 1s 113us/step - loss: 0.3323 - acc: 0.8629\n"
     ]
    },
    {
     "data": {
      "text/plain": [
       "<keras.callbacks.History at 0x1e79abdb6d8>"
      ]
     },
     "execution_count": 21,
     "metadata": {},
     "output_type": "execute_result"
    }
   ],
   "source": [
    "classifier.fit(X_train, y_train, batch_size=10, nb_epoch=100 )"
   ]
  },
  {
   "cell_type": "markdown",
   "metadata": {},
   "source": [
    "## Predict test inputs"
   ]
  },
  {
   "cell_type": "code",
   "execution_count": 24,
   "metadata": {},
   "outputs": [],
   "source": [
    "y_pred = classifier.predict(X_test)\n",
    "y_pred = (y_pred > 0.5)"
   ]
  },
  {
   "cell_type": "markdown",
   "metadata": {},
   "source": [
    "## Confusion matrix"
   ]
  },
  {
   "cell_type": "code",
   "execution_count": 25,
   "metadata": {},
   "outputs": [
    {
     "data": {
      "text/plain": [
       "array([[1883,  108],\n",
       "       [ 242,  267]], dtype=int64)"
      ]
     },
     "execution_count": 25,
     "metadata": {},
     "output_type": "execute_result"
    }
   ],
   "source": [
    "from sklearn.metrics import confusion_matrix\n",
    "cm = confusion_matrix(y_test,y_pred)\n",
    "cm"
   ]
  }
 ],
 "metadata": {
  "kernelspec": {
   "display_name": "Python 3",
   "language": "python",
   "name": "python3"
  },
  "language_info": {
   "codemirror_mode": {
    "name": "ipython",
    "version": 3
   },
   "file_extension": ".py",
   "mimetype": "text/x-python",
   "name": "python",
   "nbconvert_exporter": "python",
   "pygments_lexer": "ipython3",
   "version": "3.7.3"
  }
 },
 "nbformat": 4,
 "nbformat_minor": 2
}
