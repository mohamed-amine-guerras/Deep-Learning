{
 "cells": [
  {
   "cell_type": "markdown",
   "metadata": {},
   "source": [
    "# Audiobooks Example"
   ]
  },
  {
   "cell_type": "markdown",
   "metadata": {},
   "source": [
    "## Create methods that will batch the data"
   ]
  },
  {
   "cell_type": "code",
   "execution_count": 1,
   "metadata": {},
   "outputs": [],
   "source": [
    "import numpy as np\n",
    "\n",
    "class Bank_Acounts_Data_Reader():\n",
    "    \n",
    "    def __init__(self,dataset, batch_size=None):\n",
    "        npz = np.load('AI_HACK_data_{0}.npz'.format(dataset))\n",
    "        \n",
    "        self.inputs, self.targets = npz['inputs'].astype(np.float), npz['targets'].astype(np.int)\n",
    "        \n",
    "        if batch_size is None:\n",
    "            self.batch_size = self.inputs.shape[0]\n",
    "        else:\n",
    "            self.batch_size = batch_size\n",
    "        self.curr_batch = 0\n",
    "        self.batch_count = self.inputs.shape[0] // self.batch_size\n",
    "        \n",
    "    def __next__(self):\n",
    "        if self.curr_batch >= self.batch_count:\n",
    "            self.curr_batch = 0\n",
    "            raise StopIteration()\n",
    "            \n",
    "        batch_slice = slice(self.curr_batch*self.batch_size, (self.curr_batch+1)*self.batch_size)\n",
    "        inputs_batch = self.inputs[batch_slice]\n",
    "        targets_batch = self.targets[batch_slice]\n",
    "        \n",
    "        self.curr_batch += 1 \n",
    "        classes_num = 2\n",
    "        targets_one_hot = np.zeros((targets_batch.shape[0], classes_num))\n",
    "        targets_one_hot[range(targets_batch.shape[0]), targets_batch] = 1\n",
    "        \n",
    "        return inputs_batch, targets_one_hot\n",
    "    \n",
    "    \n",
    "    def __iter__(self):\n",
    "        return self"
   ]
  },
  {
   "cell_type": "markdown",
   "metadata": {},
   "source": [
    "## Create the machine learning algorihm"
   ]
  },
  {
   "cell_type": "code",
   "execution_count": 7,
   "metadata": {
    "scrolled": false
   },
   "outputs": [
    {
     "name": "stderr",
     "output_type": "stream",
     "text": [
      "C:\\Users\\dell\\Anaconda3\\lib\\site-packages\\tensorflow\\python\\client\\session.py:1702: UserWarning: An interactive session is already active. This can cause out-of-memory errors in some cases. You must explicitly call `InteractiveSession.close()` to release resources held by the other session(s).\n",
      "  warnings.warn('An interactive session is already active. This can '\n"
     ]
    },
    {
     "name": "stdout",
     "output_type": "stream",
     "text": [
      "Epoch 1. Training loss: 0.611. Validation loss: 0.531. Validation accuracy: 85.03%\n",
      "Epoch 2. Training loss: 0.483. Validation loss: 0.461. Validation accuracy: 85.03%\n",
      "Epoch 3. Training loss: 0.432. Validation loss: 0.426. Validation accuracy: 85.03%\n",
      "Epoch 4. Training loss: 0.402. Validation loss: 0.401. Validation accuracy: 85.03%\n",
      "Epoch 5. Training loss: 0.379. Validation loss: 0.382. Validation accuracy: 85.03%\n",
      "Epoch 6. Training loss: 0.362. Validation loss: 0.366. Validation accuracy: 85.63%\n",
      "Epoch 7. Training loss: 0.348. Validation loss: 0.354. Validation accuracy: 86.31%\n",
      "Epoch 8. Training loss: 0.337. Validation loss: 0.344. Validation accuracy: 86.52%\n",
      "Epoch 9. Training loss: 0.328. Validation loss: 0.336. Validation accuracy: 86.95%\n",
      "Epoch 10. Training loss: 0.321. Validation loss: 0.330. Validation accuracy: 87.20%\n",
      "Epoch 11. Training loss: 0.316. Validation loss: 0.325. Validation accuracy: 87.41%\n",
      "Epoch 12. Training loss: 0.311. Validation loss: 0.321. Validation accuracy: 87.54%\n",
      "Epoch 13. Training loss: 0.308. Validation loss: 0.318. Validation accuracy: 87.71%\n",
      "Epoch 14. Training loss: 0.305. Validation loss: 0.315. Validation accuracy: 87.71%\n",
      "Epoch 15. Training loss: 0.302. Validation loss: 0.313. Validation accuracy: 87.76%\n",
      "Epoch 16. Training loss: 0.300. Validation loss: 0.311. Validation accuracy: 87.80%\n",
      "Epoch 17. Training loss: 0.298. Validation loss: 0.309. Validation accuracy: 87.97%\n",
      "Epoch 18. Training loss: 0.296. Validation loss: 0.308. Validation accuracy: 88.14%\n",
      "Epoch 19. Training loss: 0.294. Validation loss: 0.307. Validation accuracy: 88.22%\n",
      "Epoch 20. Training loss: 0.293. Validation loss: 0.305. Validation accuracy: 88.48%\n",
      "Epoch 21. Training loss: 0.291. Validation loss: 0.305. Validation accuracy: 88.52%\n",
      "Epoch 22. Training loss: 0.290. Validation loss: 0.304. Validation accuracy: 88.56%\n",
      "Epoch 23. Training loss: 0.289. Validation loss: 0.303. Validation accuracy: 88.52%\n",
      "Epoch 24. Training loss: 0.288. Validation loss: 0.302. Validation accuracy: 88.61%\n",
      "Epoch 25. Training loss: 0.287. Validation loss: 0.302. Validation accuracy: 88.56%\n",
      "Epoch 26. Training loss: 0.286. Validation loss: 0.301. Validation accuracy: 88.56%\n",
      "Epoch 27. Training loss: 0.286. Validation loss: 0.301. Validation accuracy: 88.52%\n",
      "Epoch 28. Training loss: 0.285. Validation loss: 0.300. Validation accuracy: 88.48%\n",
      "Epoch 29. Training loss: 0.284. Validation loss: 0.300. Validation accuracy: 88.52%\n",
      "Epoch 30. Training loss: 0.284. Validation loss: 0.299. Validation accuracy: 88.52%\n",
      "Epoch 31. Training loss: 0.283. Validation loss: 0.299. Validation accuracy: 88.52%\n",
      "Epoch 32. Training loss: 0.283. Validation loss: 0.299. Validation accuracy: 88.52%\n",
      "Epoch 33. Training loss: 0.282. Validation loss: 0.298. Validation accuracy: 88.52%\n",
      "Epoch 34. Training loss: 0.281. Validation loss: 0.298. Validation accuracy: 88.52%\n",
      "Epoch 35. Training loss: 0.281. Validation loss: 0.298. Validation accuracy: 88.52%\n",
      "Epoch 36. Training loss: 0.281. Validation loss: 0.298. Validation accuracy: 88.48%\n",
      "Epoch 37. Training loss: 0.280. Validation loss: 0.297. Validation accuracy: 88.48%\n",
      "Epoch 38. Training loss: 0.280. Validation loss: 0.297. Validation accuracy: 88.48%\n",
      "Epoch 39. Training loss: 0.279. Validation loss: 0.297. Validation accuracy: 88.44%\n",
      "Epoch 40. Training loss: 0.279. Validation loss: 0.297. Validation accuracy: 88.44%\n",
      "Epoch 41. Training loss: 0.279. Validation loss: 0.297. Validation accuracy: 88.39%\n",
      "Epoch 42. Training loss: 0.278. Validation loss: 0.296. Validation accuracy: 88.39%\n",
      "Epoch 43. Training loss: 0.278. Validation loss: 0.296. Validation accuracy: 88.39%\n",
      "Epoch 44. Training loss: 0.278. Validation loss: 0.296. Validation accuracy: 88.39%\n",
      "Epoch 45. Training loss: 0.278. Validation loss: 0.296. Validation accuracy: 88.39%\n",
      "Epoch 46. Training loss: 0.277. Validation loss: 0.296. Validation accuracy: 88.39%\n",
      "Epoch 47. Training loss: 0.277. Validation loss: 0.296. Validation accuracy: 88.39%\n",
      "Epoch 48. Training loss: 0.277. Validation loss: 0.296. Validation accuracy: 88.39%\n",
      "Epoch 49. Training loss: 0.277. Validation loss: 0.295. Validation accuracy: 88.39%\n",
      "Epoch 50. Training loss: 0.276. Validation loss: 0.295. Validation accuracy: 88.35%\n",
      "End of training.\n"
     ]
    }
   ],
   "source": [
    "import tensorflow as tf\n",
    "\n",
    "input_size = 31\n",
    "output_size = 2\n",
    "hidden_layer_size = 2000\n",
    "\n",
    "tf.reset_default_graph()\n",
    "\n",
    "inputs = tf.placeholder(tf.float32,[None,input_size])\n",
    "targets = tf.placeholder(tf.int32,[None,output_size])\n",
    "\n",
    "\n",
    "weights_1 = tf.get_variable(\"weights_1\",[input_size,hidden_layer_size])\n",
    "biases_1 = tf.get_variable(\"biases_1\",[1,hidden_layer_size])\n",
    "outputs_1 = tf.nn.relu(tf.matmul(inputs,weights_1)+biases_1)\n",
    "\n",
    "weights_2 = tf.get_variable(\"weights_2\",[hidden_layer_size,hidden_layer_size])\n",
    "biases_2 = tf.get_variable(\"biases_2\",[hidden_layer_size])\n",
    "outputs_2 = tf.nn.relu(tf.matmul(outputs_1,weights_2)+biases_2)\n",
    "\n",
    "\n",
    "weights_6 = tf.get_variable(\"weights_6\",[hidden_layer_size,output_size])\n",
    "biases_6 = tf.get_variable(\"biases_6\",[output_size])\n",
    "\n",
    "outputs = tf.matmul(outputs_2,weights_6)+biases_6\n",
    "\n",
    "loss = tf.nn.softmax_cross_entropy_with_logits(logits=outputs,labels=targets)\n",
    "\n",
    "mean_loss = tf.reduce_mean(loss)\n",
    "\n",
    "optimize = tf.train.AdamOptimizer(learning_rate=0.000001).minimize(mean_loss)\n",
    "\n",
    "out_equals_target = tf.equal(tf.argmax(outputs,1),tf.argmax(targets,1))\n",
    "\n",
    "accuracy = tf.reduce_mean(tf.cast(out_equals_target,tf.float32))  \n",
    "\n",
    "sess = tf.InteractiveSession()\n",
    "\n",
    "initializer = tf.global_variables_initializer()\n",
    "\n",
    "sess.run(initializer)\n",
    "\n",
    "batch_size = 100\n",
    "\n",
    "\n",
    "max_epochs = 50\n",
    "\n",
    "prev_validation_loss = 9999999999.\n",
    "\n",
    "\n",
    "train_data = Bank_Acounts_Data_Reader('train',batch_size)\n",
    "validation_data = Bank_Acounts_Data_Reader('validation')\n",
    "\n",
    "for epoch_counter in range(max_epochs):\n",
    "    \n",
    "    curr_epoch_loss = 0.\n",
    "    \n",
    "    for input_batch, target_batch in train_data:\n",
    "        _, batch_loss = sess.run([optimize, mean_loss],\n",
    "                    feed_dict={inputs:input_batch, targets:target_batch})\n",
    "        curr_epoch_loss += batch_loss\n",
    "        \n",
    "    curr_epoch_loss /= train_data.batch_count\n",
    "    \n",
    "    validation_loss = 0.\n",
    "    validation_accuracy = 0.\n",
    "    \n",
    "    for input_batch, target_batch in validation_data:\n",
    "        validation_loss, validation_accuracy = sess.run([mean_loss, accuracy],\n",
    "                    feed_dict={inputs:input_batch, targets:target_batch})\n",
    "        \n",
    "        print('Epoch '+str(epoch_counter+1)+\n",
    "         '. Training loss: '+'{0:.3f}'.format(curr_epoch_loss)+\n",
    "         '. Validation loss: '+'{0:.3f}'.format(validation_loss)+\n",
    "         '. Validation accuracy: '+'{0:.2f}'.format(validation_accuracy *100.)+'%')\n",
    "    \n",
    "    if validation_loss > prev_validation_loss :\n",
    "        break\n",
    "    prev_validation_loss = validation_loss\n",
    "print('End of training.')\n",
    "        \n",
    "\n"
   ]
  },
  {
   "cell_type": "markdown",
   "metadata": {},
   "source": [
    "## Test"
   ]
  },
  {
   "cell_type": "code",
   "execution_count": 3,
   "metadata": {},
   "outputs": [],
   "source": [
    "test_data = Bank_Acounts_Data_Reader('test')"
   ]
  },
  {
   "cell_type": "code",
   "execution_count": 4,
   "metadata": {},
   "outputs": [
    {
     "name": "stdout",
     "output_type": "stream",
     "text": [
      "Test accuracy: 88.82%\n"
     ]
    }
   ],
   "source": [
    "\n",
    " for input_batch, target_batch in test_data:\n",
    "        test_accuracy = sess.run([accuracy],\n",
    "                    feed_dict={inputs:input_batch, targets:target_batch})\n",
    "        \n",
    "test_accuracy_percent = test_accuracy[0]*100.\n",
    "    \n",
    "print('Test accuracy: '+'{0:.2f}'.format(test_accuracy_percent)+'%')\n"
   ]
  },
  {
   "cell_type": "markdown",
   "metadata": {},
   "source": [
    "## AI Hack test"
   ]
  },
  {
   "cell_type": "code",
   "execution_count": 5,
   "metadata": {},
   "outputs": [
    {
     "data": {
      "text/plain": [
       "array([1, 1, 0, ..., 0, 0, 0], dtype=int64)"
      ]
     },
     "execution_count": 5,
     "metadata": {},
     "output_type": "execute_result"
    }
   ],
   "source": [
    "test_npz = np.load('AI_HACK_data_hack_test.npz') \n",
    "test_inputs = test_npz['inputs'].astype(np.float)\n",
    "_,predictions = sess.run([outputs,tf.argmax(outputs,1)],feed_dict={inputs:test_inputs})\n",
    "predictions"
   ]
  },
  {
   "cell_type": "code",
   "execution_count": 6,
   "metadata": {},
   "outputs": [],
   "source": [
    "uniquid_npz = np.load('AI_HACK_data_hack_test_uniquid.npz',allow_pickle=True) \n",
    "uniquid = uniquid_npz['uniquid']\n",
    "uniquid = uniquid.reshape(-1,1)\n",
    "predictions = predictions.reshape(-1,1)\n",
    "submissions = np.concatenate((uniquid,predictions),axis=1)\n",
    "np.savetxt('submissions.csv',submissions,delimiter=',',fmt='%s')"
   ]
  }
 ],
 "metadata": {
  "kernelspec": {
   "display_name": "Python 3",
   "language": "python",
   "name": "python3"
  },
  "language_info": {
   "codemirror_mode": {
    "name": "ipython",
    "version": 3
   },
   "file_extension": ".py",
   "mimetype": "text/x-python",
   "name": "python",
   "nbconvert_exporter": "python",
   "pygments_lexer": "ipython3",
   "version": "3.7.3"
  }
 },
 "nbformat": 4,
 "nbformat_minor": 2
}
