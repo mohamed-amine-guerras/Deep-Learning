{
 "cells": [
  {
   "cell_type": "markdown",
   "metadata": {},
   "source": [
    "# Audiobooks Example"
   ]
  },
  {
   "cell_type": "markdown",
   "metadata": {},
   "source": [
    "## Create methods that will batch the data"
   ]
  },
  {
   "cell_type": "code",
   "execution_count": 1,
   "metadata": {},
   "outputs": [],
   "source": [
    "import numpy as np\n",
    "\n",
    "class AI_HACK_Data_Reader():\n",
    "    \n",
    "    def __init__(self,dataset, batch_size=None):\n",
    "        npz = np.load('AI_HACK_data_{0}.npz'.format(dataset))\n",
    "        \n",
    "        self.inputs, self.targets = npz['inputs'].astype(np.float), npz['targets'].astype(np.int)\n",
    "        \n",
    "        if batch_size is None:\n",
    "            self.batch_size = self.inputs.shape[0]\n",
    "        else:\n",
    "            self.batch_size = batch_size\n",
    "        self.curr_batch = 0\n",
    "        self.batch_count = self.inputs.shape[0] // self.batch_size\n",
    "        \n",
    "    def __next__(self):\n",
    "        if self.curr_batch >= self.batch_count:\n",
    "            self.curr_batch = 0\n",
    "            raise StopIteration()\n",
    "            \n",
    "        batch_slice = slice(self.curr_batch*self.batch_size, (self.curr_batch+1)*self.batch_size)\n",
    "        inputs_batch = self.inputs[batch_slice]\n",
    "        targets_batch = self.targets[batch_slice]\n",
    "        \n",
    "        self.curr_batch += 1 \n",
    "        classes_num = 2\n",
    "        targets_one_hot = np.zeros((targets_batch.shape[0], classes_num))\n",
    "        targets_one_hot[range(targets_batch.shape[0]), targets_batch] = 1\n",
    "        \n",
    "        return inputs_batch, targets_one_hot\n",
    "    \n",
    "    \n",
    "    def __iter__(self):\n",
    "        return self"
   ]
  },
  {
   "cell_type": "markdown",
   "metadata": {},
   "source": [
    "## Create the machine learning algorihm"
   ]
  },
  {
   "cell_type": "code",
   "execution_count": 32,
   "metadata": {},
   "outputs": [
    {
     "name": "stdout",
     "output_type": "stream",
     "text": [
      "Epoch 1. Training loss: 0.435. Validation loss: 0.397. Validation accuracy: 77.40%\n",
      "Epoch 2. Training loss: 0.356. Validation loss: 0.378. Validation accuracy: 78.30%\n",
      "Epoch 3. Training loss: 0.348. Validation loss: 0.376. Validation accuracy: 78.52%\n",
      "Epoch 4. Training loss: 0.339. Validation loss: 0.371. Validation accuracy: 77.40%\n",
      "Epoch 5. Training loss: 0.335. Validation loss: 0.366. Validation accuracy: 78.08%\n",
      "Epoch 6. Training loss: 0.331. Validation loss: 0.365. Validation accuracy: 78.30%\n",
      "Epoch 7. Training loss: 0.327. Validation loss: 0.362. Validation accuracy: 78.97%\n",
      "Epoch 8. Training loss: 0.327. Validation loss: 0.359. Validation accuracy: 78.52%\n",
      "Epoch 9. Training loss: 0.324. Validation loss: 0.360. Validation accuracy: 79.19%\n",
      "End of training.\n"
     ]
    }
   ],
   "source": [
    "import tensorflow as tf\n",
    "\n",
    "input_size = 10\n",
    "output_size = 2\n",
    "hidden_layer_size = 300\n",
    "\n",
    "tf.reset_default_graph()\n",
    "\n",
    "inputs = tf.placeholder(tf.float32,[None,input_size])\n",
    "targets = tf.placeholder(tf.int32,[None,output_size])\n",
    "\n",
    "\n",
    "weights_1 = tf.get_variable(\"weights_1\",[input_size,hidden_layer_size])\n",
    "biases_1 = tf.get_variable(\"biases_1\",[1,hidden_layer_size])\n",
    "\n",
    "outputs_1 = tf.nn.relu(tf.matmul(inputs,weights_1)+biases_1)\n",
    "\n",
    "weights_2 = tf.get_variable(\"weights_2\",[hidden_layer_size,hidden_layer_size])\n",
    "biases_2 = tf.get_variable(\"biases_2\",[hidden_layer_size])\n",
    "\n",
    "outputs_2 = tf.nn.relu(tf.matmul(outputs_1,weights_2)+biases_2)\n",
    "\n",
    "\n",
    "\n",
    "weights_3 = tf.get_variable(\"weights_3\",[hidden_layer_size,output_size])\n",
    "biases_3 = tf.get_variable(\"biases_3\",[output_size])\n",
    "\n",
    "outputs = tf.matmul(outputs_2,weights_3)+biases_3\n",
    "\n",
    "loss = tf.nn.softmax_cross_entropy_with_logits(logits=outputs,labels=targets)\n",
    "\n",
    "mean_loss = tf.reduce_mean(loss)\n",
    "\n",
    "optimize = tf.train.AdamOptimizer(learning_rate=0.002).minimize(mean_loss)\n",
    "\n",
    "out_equals_target = tf.equal(tf.argmax(outputs,1),tf.argmax(targets,1))\n",
    "\n",
    "accuracy = tf.reduce_mean(tf.cast(out_equals_target,tf.float32))  \n",
    "\n",
    "sess = tf.InteractiveSession()\n",
    "\n",
    "initializer = tf.global_variables_initializer()\n",
    "\n",
    "sess.run(initializer)\n",
    "\n",
    "batch_size = 100\n",
    "\n",
    "\n",
    "max_epochs = 50\n",
    "\n",
    "prev_validation_loss = 9999999999.\n",
    "\n",
    "\n",
    "train_data = AI_HACK_Data_Reader('train',batch_size)\n",
    "validation_data = AI_HACK_Data_Reader('validation')\n",
    "\n",
    "for epoch_counter in range(max_epochs):\n",
    "    \n",
    "    curr_epoch_loss = 0.\n",
    "    \n",
    "    for input_batch, target_batch in train_data:\n",
    "        _, batch_loss = sess.run([optimize, mean_loss],\n",
    "                    feed_dict={inputs:input_batch, targets:target_batch})\n",
    "        curr_epoch_loss += batch_loss\n",
    "        \n",
    "    curr_epoch_loss /= train_data.batch_count\n",
    "    \n",
    "    validation_loss = 0.\n",
    "    validation_accuracy = 0.\n",
    "    \n",
    "    for input_batch, target_batch in validation_data:\n",
    "        validation_loss, validation_accuracy = sess.run([mean_loss, accuracy],\n",
    "                    feed_dict={inputs:input_batch, targets:target_batch})\n",
    "        \n",
    "        print('Epoch '+str(epoch_counter+1)+\n",
    "         '. Training loss: '+'{0:.3f}'.format(curr_epoch_loss)+\n",
    "         '. Validation loss: '+'{0:.3f}'.format(validation_loss)+\n",
    "         '. Validation accuracy: '+'{0:.2f}'.format(validation_accuracy *100.)+'%')\n",
    "    \n",
    "    if validation_loss > prev_validation_loss :\n",
    "        break\n",
    "    prev_validation_loss = validation_loss\n",
    "print('End of training.')\n",
    "        \n",
    "\n"
   ]
  },
  {
   "cell_type": "markdown",
   "metadata": {},
   "source": [
    "## Test"
   ]
  },
  {
   "cell_type": "code",
   "execution_count": 26,
   "metadata": {},
   "outputs": [],
   "source": [
    "test_data = AI_HACK_Data_Reader('test')"
   ]
  },
  {
   "cell_type": "code",
   "execution_count": 33,
   "metadata": {},
   "outputs": [
    {
     "name": "stdout",
     "output_type": "stream",
     "text": [
      "Test accuracy: 84.82%\n"
     ]
    }
   ],
   "source": [
    "\n",
    " for input_batch, target_batch in test_data:\n",
    "        test_accuracy = sess.run([accuracy],\n",
    "                    feed_dict={inputs:input_batch, targets:target_batch})\n",
    "        \n",
    "test_accuracy_percent = test_accuracy[0]*100.\n",
    "    \n",
    "print('Test accuracy: '+'{0:.2f}'.format(test_accuracy_percent)+'%')\n"
   ]
  }
 ],
 "metadata": {
  "kernelspec": {
   "display_name": "Python 3",
   "language": "python",
   "name": "python3"
  },
  "language_info": {
   "codemirror_mode": {
    "name": "ipython",
    "version": 3
   },
   "file_extension": ".py",
   "mimetype": "text/x-python",
   "name": "python",
   "nbconvert_exporter": "python",
   "pygments_lexer": "ipython3",
   "version": "3.7.3"
  }
 },
 "nbformat": 4,
 "nbformat_minor": 2
}
